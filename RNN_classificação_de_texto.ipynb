{
  "nbformat": 4,
  "nbformat_minor": 0,
  "metadata": {
    "colab": {
      "name": "RNN_classificação_de_texto_Helano .ipynb",
      "provenance": [],
      "collapsed_sections": [],
      "include_colab_link": true
    },
    "kernelspec": {
      "display_name": "Python 3",
      "language": "python",
      "name": "python3"
    },
    "language_info": {
      "codemirror_mode": {
        "name": "ipython",
        "version": 3
      },
      "file_extension": ".py",
      "mimetype": "text/x-python",
      "name": "python",
      "nbconvert_exporter": "python",
      "pygments_lexer": "ipython3",
      "version": "3.8.5"
    }
  },
  "cells": [
    {
      "cell_type": "markdown",
      "metadata": {
        "id": "view-in-github",
        "colab_type": "text"
      },
      "source": [
        "<a href=\"https://colab.research.google.com/github/HWP-Wilson/Classificador_de_tweets_com_TensorFlow_Keras_RNN/blob/main/RNN_classifica%C3%A7%C3%A3o_de_texto.ipynb\" target=\"_parent\"><img src=\"https://colab.research.google.com/assets/colab-badge.svg\" alt=\"Open In Colab\"/></a>"
      ]
    },
    {
      "cell_type": "markdown",
      "metadata": {
        "id": "0Gtx9rQnbG6a"
      },
      "source": [
        "Classificador de tweets com RNN/TensorFlow/Keras\r\n",
        "helanowilson@ufc.br"
      ]
    },
    {
      "cell_type": "code",
      "metadata": {
        "colab": {
          "base_uri": "https://localhost:8080/"
        },
        "collapsed": true,
        "id": "eGA0PYSx_woL",
        "outputId": "529f0d93-27bc-4f65-a6de-b15548a50477"
      },
      "source": [
        "!pip install wordninja\n",
        "!pip install textblob"
      ],
      "execution_count": null,
      "outputs": [
        {
          "output_type": "stream",
          "text": [
            "Requirement already satisfied: wordninja in c:\\users\\jamili\\.conda\\lib\\site-packages (2.0.0)\n",
            "Requirement already satisfied: textblob in c:\\users\\jamili\\.conda\\lib\\site-packages (0.15.3)\n",
            "Requirement already satisfied: nltk>=3.1 in c:\\users\\jamili\\.conda\\lib\\site-packages (from textblob) (3.5)\n",
            "Requirement already satisfied: click in c:\\users\\jamili\\.conda\\lib\\site-packages (from nltk>=3.1->textblob) (7.1.2)\n",
            "Requirement already satisfied: joblib in c:\\users\\jamili\\.conda\\lib\\site-packages (from nltk>=3.1->textblob) (0.17.0)\n",
            "Requirement already satisfied: tqdm in c:\\users\\jamili\\.conda\\lib\\site-packages (from nltk>=3.1->textblob) (4.50.2)\n",
            "Requirement already satisfied: regex in c:\\users\\jamili\\.conda\\lib\\site-packages (from nltk>=3.1->textblob) (2020.10.15)\n"
          ],
          "name": "stdout"
        }
      ]
    },
    {
      "cell_type": "code",
      "metadata": {
        "collapsed": true,
        "id": "si6U_fpWZZ-x",
        "outputId": "9240a059-74b7-44e7-a80b-43254be4ab2a"
      },
      "source": [
        "!pip install NLTK"
      ],
      "execution_count": null,
      "outputs": [
        {
          "output_type": "stream",
          "text": [
            "Requirement already satisfied: NLTK in c:\\users\\jamili\\.conda\\lib\\site-packages (3.5)\n",
            "Requirement already satisfied: click in c:\\users\\jamili\\.conda\\lib\\site-packages (from NLTK) (7.1.2)\n",
            "Requirement already satisfied: regex in c:\\users\\jamili\\.conda\\lib\\site-packages (from NLTK) (2020.10.15)\n",
            "Requirement already satisfied: tqdm in c:\\users\\jamili\\.conda\\lib\\site-packages (from NLTK) (4.50.2)\n",
            "Requirement already satisfied: joblib in c:\\users\\jamili\\.conda\\lib\\site-packages (from NLTK) (0.17.0)\n"
          ],
          "name": "stdout"
        }
      ]
    },
    {
      "cell_type": "code",
      "metadata": {
        "collapsed": true,
        "id": "8hZ0oG4CZZ-z",
        "outputId": "2f027e7d-0903-45aa-86c5-8f594e543a33"
      },
      "source": [
        "import os\n",
        "import numpy as np\n",
        "import pandas as pd\n",
        "from sklearn.model_selection import train_test_split\n",
        "from sklearn.preprocessing import LabelEncoder\n",
        "import json\n",
        "import pickle\n",
        "import urllib\n",
        "import collections\n",
        "from collections import Counter\n",
        "import nltk\n",
        "nltk.download('stopwords')\n",
        "nltk.download('punkt')\n",
        "from nltk.corpus import stopwords\n",
        "from nltk.tokenize import word_tokenize\n",
        "from nltk.tokenize.treebank import TreebankWordDetokenizer\n",
        "import wordninja\n",
        "import textblob\n",
        "\n",
        "from sklearn.preprocessing import MultiLabelBinarizer\n"
      ],
      "execution_count": null,
      "outputs": [
        {
          "output_type": "stream",
          "text": [
            "[nltk_data] Downloading package stopwords to\n",
            "[nltk_data]     C:\\Users\\Jamili\\AppData\\Roaming\\nltk_data...\n",
            "[nltk_data]   Package stopwords is already up-to-date!\n",
            "[nltk_data] Downloading package punkt to\n",
            "[nltk_data]     C:\\Users\\Jamili\\AppData\\Roaming\\nltk_data...\n",
            "[nltk_data]   Package punkt is already up-to-date!\n"
          ],
          "name": "stderr"
        }
      ]
    },
    {
      "cell_type": "code",
      "metadata": {
        "collapsed": true,
        "id": "TwxSCxD3ZZ-1",
        "outputId": "0a37d259-f383-4287-ae96-5c12a2654a4a"
      },
      "source": [
        "!pip install tensorflow"
      ],
      "execution_count": null,
      "outputs": [
        {
          "output_type": "stream",
          "text": [
            "Requirement already satisfied: tensorflow in c:\\users\\jamili\\.conda\\lib\\site-packages (2.4.1)\n",
            "Requirement already satisfied: protobuf>=3.9.2 in c:\\users\\jamili\\.conda\\lib\\site-packages (from tensorflow) (3.15.6)\n",
            "Requirement already satisfied: flatbuffers~=1.12.0 in c:\\users\\jamili\\.conda\\lib\\site-packages (from tensorflow) (1.12)\n",
            "Requirement already satisfied: wrapt~=1.12.1 in c:\\users\\jamili\\.conda\\lib\\site-packages (from tensorflow) (1.12.1)\n",
            "Requirement already satisfied: tensorboard~=2.4 in c:\\users\\jamili\\.conda\\lib\\site-packages (from tensorflow) (2.4.1)\n",
            "Requirement already satisfied: gast==0.3.3 in c:\\users\\jamili\\.conda\\lib\\site-packages (from tensorflow) (0.3.3)\n",
            "Requirement already satisfied: google-pasta~=0.2 in c:\\users\\jamili\\.conda\\lib\\site-packages (from tensorflow) (0.2.0)\n",
            "Requirement already satisfied: typing-extensions~=3.7.4 in c:\\users\\jamili\\.conda\\lib\\site-packages (from tensorflow) (3.7.4.3)\n",
            "Requirement already satisfied: h5py~=2.10.0 in c:\\users\\jamili\\.conda\\lib\\site-packages (from tensorflow) (2.10.0)\n",
            "Requirement already satisfied: termcolor~=1.1.0 in c:\\users\\jamili\\.conda\\lib\\site-packages (from tensorflow) (1.1.0)\n",
            "Requirement already satisfied: tensorflow-estimator<2.5.0,>=2.4.0 in c:\\users\\jamili\\.conda\\lib\\site-packages (from tensorflow) (2.4.0)\n",
            "Requirement already satisfied: six~=1.15.0 in c:\\users\\jamili\\.conda\\lib\\site-packages (from tensorflow) (1.15.0)\n",
            "Requirement already satisfied: grpcio~=1.32.0 in c:\\users\\jamili\\.conda\\lib\\site-packages (from tensorflow) (1.32.0)\n",
            "Requirement already satisfied: astunparse~=1.6.3 in c:\\users\\jamili\\.conda\\lib\\site-packages (from tensorflow) (1.6.3)\n",
            "Requirement already satisfied: opt-einsum~=3.3.0 in c:\\users\\jamili\\.conda\\lib\\site-packages (from tensorflow) (3.3.0)\n",
            "Requirement already satisfied: keras-preprocessing~=1.1.2 in c:\\users\\jamili\\.conda\\lib\\site-packages (from tensorflow) (1.1.2)\n",
            "Requirement already satisfied: numpy~=1.19.2 in c:\\users\\jamili\\.conda\\lib\\site-packages (from tensorflow) (1.19.2)\n",
            "Requirement already satisfied: absl-py~=0.10 in c:\\users\\jamili\\.conda\\lib\\site-packages (from tensorflow) (0.12.0)\n",
            "Requirement already satisfied: wheel~=0.35 in c:\\users\\jamili\\.conda\\lib\\site-packages (from tensorflow) (0.35.1)\n",
            "Requirement already satisfied: markdown>=2.6.8 in c:\\users\\jamili\\.conda\\lib\\site-packages (from tensorboard~=2.4->tensorflow) (3.3.4)\n",
            "Requirement already satisfied: tensorboard-plugin-wit>=1.6.0 in c:\\users\\jamili\\.conda\\lib\\site-packages (from tensorboard~=2.4->tensorflow) (1.8.0)\n",
            "Requirement already satisfied: werkzeug>=0.11.15 in c:\\users\\jamili\\.conda\\lib\\site-packages (from tensorboard~=2.4->tensorflow) (1.0.1)\n",
            "Requirement already satisfied: requests<3,>=2.21.0 in c:\\users\\jamili\\.conda\\lib\\site-packages (from tensorboard~=2.4->tensorflow) (2.24.0)\n",
            "Requirement already satisfied: google-auth<2,>=1.6.3 in c:\\users\\jamili\\.conda\\lib\\site-packages (from tensorboard~=2.4->tensorflow) (1.27.1)\n",
            "Requirement already satisfied: google-auth-oauthlib<0.5,>=0.4.1 in c:\\users\\jamili\\.conda\\lib\\site-packages (from tensorboard~=2.4->tensorflow) (0.4.3)\n",
            "Requirement already satisfied: setuptools>=41.0.0 in c:\\users\\jamili\\.conda\\lib\\site-packages (from tensorboard~=2.4->tensorflow) (50.3.1.post20201107)\n",
            "Requirement already satisfied: idna<3,>=2.5 in c:\\users\\jamili\\.conda\\lib\\site-packages (from requests<3,>=2.21.0->tensorboard~=2.4->tensorflow) (2.10)\n",
            "Requirement already satisfied: urllib3!=1.25.0,!=1.25.1,<1.26,>=1.21.1 in c:\\users\\jamili\\.conda\\lib\\site-packages (from requests<3,>=2.21.0->tensorboard~=2.4->tensorflow) (1.25.11)\n",
            "Requirement already satisfied: chardet<4,>=3.0.2 in c:\\users\\jamili\\.conda\\lib\\site-packages (from requests<3,>=2.21.0->tensorboard~=2.4->tensorflow) (3.0.4)\n",
            "Requirement already satisfied: certifi>=2017.4.17 in c:\\users\\jamili\\.conda\\lib\\site-packages (from requests<3,>=2.21.0->tensorboard~=2.4->tensorflow) (2020.6.20)\n",
            "Requirement already satisfied: cachetools<5.0,>=2.0.0 in c:\\users\\jamili\\.conda\\lib\\site-packages (from google-auth<2,>=1.6.3->tensorboard~=2.4->tensorflow) (4.2.1)\n",
            "Requirement already satisfied: rsa<5,>=3.1.4; python_version >= \"3.6\" in c:\\users\\jamili\\.conda\\lib\\site-packages (from google-auth<2,>=1.6.3->tensorboard~=2.4->tensorflow) (4.7.2)\n",
            "Requirement already satisfied: pyasn1-modules>=0.2.1 in c:\\users\\jamili\\.conda\\lib\\site-packages (from google-auth<2,>=1.6.3->tensorboard~=2.4->tensorflow) (0.2.8)\n",
            "Requirement already satisfied: requests-oauthlib>=0.7.0 in c:\\users\\jamili\\.conda\\lib\\site-packages (from google-auth-oauthlib<0.5,>=0.4.1->tensorboard~=2.4->tensorflow) (1.3.0)\n",
            "Requirement already satisfied: pyasn1>=0.1.3 in c:\\users\\jamili\\.conda\\lib\\site-packages (from rsa<5,>=3.1.4; python_version >= \"3.6\"->google-auth<2,>=1.6.3->tensorboard~=2.4->tensorflow) (0.4.8)\n",
            "Requirement already satisfied: oauthlib>=3.0.0 in c:\\users\\jamili\\.conda\\lib\\site-packages (from requests-oauthlib>=0.7.0->google-auth-oauthlib<0.5,>=0.4.1->tensorboard~=2.4->tensorflow) (3.1.0)\n"
          ],
          "name": "stdout"
        }
      ]
    },
    {
      "cell_type": "code",
      "metadata": {
        "collapsed": true,
        "id": "01EM38-oZZ-3",
        "outputId": "97fbc4d4-c45f-40e2-da92-d708522b6c71"
      },
      "source": [
        "!pip install tensorflow_hub "
      ],
      "execution_count": null,
      "outputs": [
        {
          "output_type": "stream",
          "text": [
            "Requirement already satisfied: tensorflow_hub in c:\\users\\jamili\\.conda\\lib\\site-packages (0.11.0)\n",
            "Requirement already satisfied: protobuf>=3.8.0 in c:\\users\\jamili\\.conda\\lib\\site-packages (from tensorflow_hub) (3.15.6)\n",
            "Requirement already satisfied: numpy>=1.12.0 in c:\\users\\jamili\\.conda\\lib\\site-packages (from tensorflow_hub) (1.19.2)\n",
            "Requirement already satisfied: six>=1.9 in c:\\users\\jamili\\.conda\\lib\\site-packages (from protobuf>=3.8.0->tensorflow_hub) (1.15.0)\n"
          ],
          "name": "stdout"
        }
      ]
    },
    {
      "cell_type": "code",
      "metadata": {
        "collapsed": true,
        "id": "8xxuc8WaZZ-4",
        "outputId": "4be63320-c205-4ffa-9fc1-5fdf379bd7d0"
      },
      "source": [
        "!pip install tensorflow_datasets"
      ],
      "execution_count": null,
      "outputs": [
        {
          "output_type": "stream",
          "text": [
            "Requirement already satisfied: tensorflow_datasets in c:\\users\\jamili\\.conda\\lib\\site-packages (4.2.0)\n",
            "Requirement already satisfied: future in c:\\users\\jamili\\.conda\\lib\\site-packages (from tensorflow_datasets) (0.18.2)\n",
            "Requirement already satisfied: termcolor in c:\\users\\jamili\\.conda\\lib\\site-packages (from tensorflow_datasets) (1.1.0)\n",
            "Requirement already satisfied: attrs>=18.1.0 in c:\\users\\jamili\\.conda\\lib\\site-packages (from tensorflow_datasets) (20.3.0)\n",
            "Requirement already satisfied: tqdm in c:\\users\\jamili\\.conda\\lib\\site-packages (from tensorflow_datasets) (4.50.2)\n",
            "Requirement already satisfied: six in c:\\users\\jamili\\.conda\\lib\\site-packages (from tensorflow_datasets) (1.15.0)\n",
            "Requirement already satisfied: requests>=2.19.0 in c:\\users\\jamili\\.conda\\lib\\site-packages (from tensorflow_datasets) (2.24.0)\n",
            "Requirement already satisfied: numpy in c:\\users\\jamili\\.conda\\lib\\site-packages (from tensorflow_datasets) (1.19.2)\n",
            "Requirement already satisfied: importlib-resources; python_version < \"3.9\" in c:\\users\\jamili\\.conda\\lib\\site-packages (from tensorflow_datasets) (5.1.2)\n",
            "Requirement already satisfied: protobuf>=3.12.2 in c:\\users\\jamili\\.conda\\lib\\site-packages (from tensorflow_datasets) (3.15.6)\n",
            "Requirement already satisfied: dill in c:\\users\\jamili\\.conda\\lib\\site-packages (from tensorflow_datasets) (0.3.3)\n",
            "Requirement already satisfied: tensorflow-metadata in c:\\users\\jamili\\.conda\\lib\\site-packages (from tensorflow_datasets) (0.28.0)\n",
            "Requirement already satisfied: promise in c:\\users\\jamili\\.conda\\lib\\site-packages (from tensorflow_datasets) (2.3)\n",
            "Requirement already satisfied: absl-py in c:\\users\\jamili\\.conda\\lib\\site-packages (from tensorflow_datasets) (0.12.0)\n",
            "Requirement already satisfied: chardet<4,>=3.0.2 in c:\\users\\jamili\\.conda\\lib\\site-packages (from requests>=2.19.0->tensorflow_datasets) (3.0.4)\n",
            "Requirement already satisfied: idna<3,>=2.5 in c:\\users\\jamili\\.conda\\lib\\site-packages (from requests>=2.19.0->tensorflow_datasets) (2.10)\n",
            "Requirement already satisfied: urllib3!=1.25.0,!=1.25.1,<1.26,>=1.21.1 in c:\\users\\jamili\\.conda\\lib\\site-packages (from requests>=2.19.0->tensorflow_datasets) (1.25.11)\n",
            "Requirement already satisfied: certifi>=2017.4.17 in c:\\users\\jamili\\.conda\\lib\\site-packages (from requests>=2.19.0->tensorflow_datasets) (2020.6.20)\n",
            "Requirement already satisfied: googleapis-common-protos<2,>=1.52.0 in c:\\users\\jamili\\.conda\\lib\\site-packages (from tensorflow-metadata->tensorflow_datasets) (1.53.0)\n"
          ],
          "name": "stdout"
        }
      ]
    },
    {
      "cell_type": "code",
      "metadata": {
        "colab": {
          "base_uri": "https://localhost:8080/"
        },
        "id": "3WSrUG8E_-DY",
        "scrolled": true,
        "outputId": "83e668b9-81de-4d14-96ed-cd1776fc955b"
      },
      "source": [
        "import tensorflow as tf\n",
        "import tensorflow_hub as hub\n",
        "import tensorflow_datasets as tfds\n",
        "from tensorflow import keras\n",
        "from tensorflow.keras import layers\n",
        "print(tf.__version__)"
      ],
      "execution_count": null,
      "outputs": [
        {
          "output_type": "stream",
          "text": [
            "2.4.1\n"
          ],
          "name": "stdout"
        }
      ]
    },
    {
      "cell_type": "code",
      "metadata": {
        "id": "TPFR6p5rZZ-6"
      },
      "source": [
        "import string\n",
        "from nltk.corpus import stopwords\n",
        "import re"
      ],
      "execution_count": null,
      "outputs": []
    },
    {
      "cell_type": "code",
      "metadata": {
        "collapsed": true,
        "id": "jhH7nbMKZZ-6",
        "outputId": "60acd1e7-8821-4850-fe2b-e9f5e02c038a"
      },
      "source": [
        "!pip install TextBlob"
      ],
      "execution_count": null,
      "outputs": [
        {
          "output_type": "stream",
          "text": [
            "Requirement already satisfied: TextBlob in c:\\users\\jamili\\.conda\\lib\\site-packages (0.15.3)\n",
            "Requirement already satisfied: nltk>=3.1 in c:\\users\\jamili\\.conda\\lib\\site-packages (from TextBlob) (3.5)\n",
            "Requirement already satisfied: click in c:\\users\\jamili\\.conda\\lib\\site-packages (from nltk>=3.1->TextBlob) (7.1.2)\n",
            "Requirement already satisfied: regex in c:\\users\\jamili\\.conda\\lib\\site-packages (from nltk>=3.1->TextBlob) (2020.10.15)\n",
            "Requirement already satisfied: joblib in c:\\users\\jamili\\.conda\\lib\\site-packages (from nltk>=3.1->TextBlob) (0.17.0)\n",
            "Requirement already satisfied: tqdm in c:\\users\\jamili\\.conda\\lib\\site-packages (from nltk>=3.1->TextBlob) (4.50.2)\n"
          ],
          "name": "stdout"
        }
      ]
    },
    {
      "cell_type": "code",
      "metadata": {
        "colab": {
          "base_uri": "https://localhost:8080/"
        },
        "id": "WmzJDjD9AbAd",
        "outputId": "5c778618-cb5e-4a44-99dd-67b4b0d708d2"
      },
      "source": [
        "#eu\n",
        "dados = pd.read_csv('dados/labeled_data.csv')\n",
        "dados['tweet'].head()"
      ],
      "execution_count": null,
      "outputs": [
        {
          "output_type": "execute_result",
          "data": {
            "text/plain": [
              "0    !!! RT @mayasolovely: As a woman you shouldn't...\n",
              "1    !!!!! RT @mleew17: boy dats cold...tyga dwn ba...\n",
              "2    !!!!!!! RT @UrKindOfBrand Dawg!!!! RT @80sbaby...\n",
              "3    !!!!!!!!! RT @C_G_Anderson: @viva_based she lo...\n",
              "4    !!!!!!!!!!!!! RT @ShenikaRoberts: The shit you...\n",
              "Name: tweet, dtype: object"
            ]
          },
          "metadata": {
            "tags": []
          },
          "execution_count": 61
        }
      ]
    },
    {
      "cell_type": "code",
      "metadata": {
        "id": "oC9WJhYvZZ-9",
        "outputId": "22cf7191-6687-4b1f-e20e-81e96671a77c"
      },
      "source": [
        "# Excluindo da descrição os números, informações julgadas irrelevantes para a classificação.\n",
        "dados['tweet_novo'] = dados['tweet'].str.replace('[0-9]+', '', regex=True).copy()\n",
        "# Excluindo da descrição puntuação, informações julgadas irrelevantes para a classificação.\n",
        "dados['tweet_novo'] = dados['tweet_novo'].str.replace('[,.:;!?]+', ' ', regex=True).copy()\n",
        "# Excluindo da descrição caracteres especiais, informações julgadas irrelevantes para a classificação.\n",
        "dados['tweet_novo'] = dados['tweet_novo'].str.replace(\"(@[A-Za-z0-9]+)|(#[A-Za-z0-9]+)\", \" \", regex=True).copy()\n",
        "\n",
        "# Colocando todos os caracteres em caixa baixa.\n",
        "dados['tweet_novo'] = dados['tweet_novo'].str.lower().copy()\n",
        "dados.head(2)"
      ],
      "execution_count": null,
      "outputs": [
        {
          "output_type": "execute_result",
          "data": {
            "text/html": [
              "<div>\n",
              "<style scoped>\n",
              "    .dataframe tbody tr th:only-of-type {\n",
              "        vertical-align: middle;\n",
              "    }\n",
              "\n",
              "    .dataframe tbody tr th {\n",
              "        vertical-align: top;\n",
              "    }\n",
              "\n",
              "    .dataframe thead th {\n",
              "        text-align: right;\n",
              "    }\n",
              "</style>\n",
              "<table border=\"1\" class=\"dataframe\">\n",
              "  <thead>\n",
              "    <tr style=\"text-align: right;\">\n",
              "      <th></th>\n",
              "      <th>Unnamed: 0</th>\n",
              "      <th>count</th>\n",
              "      <th>hate_speech</th>\n",
              "      <th>offensive_language</th>\n",
              "      <th>neither</th>\n",
              "      <th>class</th>\n",
              "      <th>tweet</th>\n",
              "      <th>tweet_novo</th>\n",
              "    </tr>\n",
              "  </thead>\n",
              "  <tbody>\n",
              "    <tr>\n",
              "      <th>0</th>\n",
              "      <td>0</td>\n",
              "      <td>3</td>\n",
              "      <td>0</td>\n",
              "      <td>0</td>\n",
              "      <td>3</td>\n",
              "      <td>2</td>\n",
              "      <td>!!! RT @mayasolovely: As a woman you shouldn't...</td>\n",
              "      <td>rt    as a woman you shouldn't complain abou...</td>\n",
              "    </tr>\n",
              "    <tr>\n",
              "      <th>1</th>\n",
              "      <td>1</td>\n",
              "      <td>3</td>\n",
              "      <td>0</td>\n",
              "      <td>3</td>\n",
              "      <td>0</td>\n",
              "      <td>1</td>\n",
              "      <td>!!!!! RT @mleew17: boy dats cold...tyga dwn ba...</td>\n",
              "      <td>rt    boy dats cold tyga dwn bad for cuffin ...</td>\n",
              "    </tr>\n",
              "  </tbody>\n",
              "</table>\n",
              "</div>"
            ],
            "text/plain": [
              "   Unnamed: 0  count  hate_speech  offensive_language  neither  class  \\\n",
              "0           0      3            0                   0        3      2   \n",
              "1           1      3            0                   3        0      1   \n",
              "\n",
              "                                               tweet  \\\n",
              "0  !!! RT @mayasolovely: As a woman you shouldn't...   \n",
              "1  !!!!! RT @mleew17: boy dats cold...tyga dwn ba...   \n",
              "\n",
              "                                          tweet_novo  \n",
              "0    rt    as a woman you shouldn't complain abou...  \n",
              "1    rt    boy dats cold tyga dwn bad for cuffin ...  "
            ]
          },
          "metadata": {
            "tags": []
          },
          "execution_count": 62
        }
      ]
    },
    {
      "cell_type": "code",
      "metadata": {
        "colab": {
          "base_uri": "https://localhost:8080/",
          "height": 213
        },
        "collapsed": true,
        "id": "DdiPor3FA-wT",
        "outputId": "9eb0a858-193e-49ff-8819-8b37a1d56124"
      },
      "source": [
        "# Função para retirar stop words\n",
        "punct = list(string.punctuation)\n",
        "stop_words = stopwords.words('english')\n",
        "additional_stop_words = ['RT', 'rt', 'via', '...', 'http', 'twitpic',\n",
        "'tinyurl' ,'www']\n",
        "stopword_list = punct + stop_words + additional_stop_words\n",
        "def tokenize_df(tokenized_words):\n",
        "  tokenized_words = word_tokenize(tokenized_words)\n",
        "  stop = [word for word in tokenized_words if word not in stopword_list]\n",
        "  text = TreebankWordDetokenizer().detokenize(stop)\n",
        "  return text\n",
        "# Eliminando as stop words\n",
        "dados['tweet_organizado'] = dados['tweet_novo'].apply(tokenize_df).copy()\n",
        "dados.head(2)"
      ],
      "execution_count": null,
      "outputs": [
        {
          "output_type": "execute_result",
          "data": {
            "text/html": [
              "<div>\n",
              "<style scoped>\n",
              "    .dataframe tbody tr th:only-of-type {\n",
              "        vertical-align: middle;\n",
              "    }\n",
              "\n",
              "    .dataframe tbody tr th {\n",
              "        vertical-align: top;\n",
              "    }\n",
              "\n",
              "    .dataframe thead th {\n",
              "        text-align: right;\n",
              "    }\n",
              "</style>\n",
              "<table border=\"1\" class=\"dataframe\">\n",
              "  <thead>\n",
              "    <tr style=\"text-align: right;\">\n",
              "      <th></th>\n",
              "      <th>Unnamed: 0</th>\n",
              "      <th>count</th>\n",
              "      <th>hate_speech</th>\n",
              "      <th>offensive_language</th>\n",
              "      <th>neither</th>\n",
              "      <th>class</th>\n",
              "      <th>tweet</th>\n",
              "      <th>tweet_novo</th>\n",
              "      <th>tweet_organizado</th>\n",
              "    </tr>\n",
              "  </thead>\n",
              "  <tbody>\n",
              "    <tr>\n",
              "      <th>0</th>\n",
              "      <td>0</td>\n",
              "      <td>3</td>\n",
              "      <td>0</td>\n",
              "      <td>0</td>\n",
              "      <td>3</td>\n",
              "      <td>2</td>\n",
              "      <td>!!! RT @mayasolovely: As a woman you shouldn't...</td>\n",
              "      <td>rt    as a woman you shouldn't complain abou...</td>\n",
              "      <td>womann't complain cleaning house amp man alway...</td>\n",
              "    </tr>\n",
              "    <tr>\n",
              "      <th>1</th>\n",
              "      <td>1</td>\n",
              "      <td>3</td>\n",
              "      <td>0</td>\n",
              "      <td>3</td>\n",
              "      <td>0</td>\n",
              "      <td>1</td>\n",
              "      <td>!!!!! RT @mleew17: boy dats cold...tyga dwn ba...</td>\n",
              "      <td>rt    boy dats cold tyga dwn bad for cuffin ...</td>\n",
              "      <td>boy dats cold tyga dwn bad cuffin dat hoe st p...</td>\n",
              "    </tr>\n",
              "  </tbody>\n",
              "</table>\n",
              "</div>"
            ],
            "text/plain": [
              "   Unnamed: 0  count  hate_speech  offensive_language  neither  class  \\\n",
              "0           0      3            0                   0        3      2   \n",
              "1           1      3            0                   3        0      1   \n",
              "\n",
              "                                               tweet  \\\n",
              "0  !!! RT @mayasolovely: As a woman you shouldn't...   \n",
              "1  !!!!! RT @mleew17: boy dats cold...tyga dwn ba...   \n",
              "\n",
              "                                          tweet_novo  \\\n",
              "0    rt    as a woman you shouldn't complain abou...   \n",
              "1    rt    boy dats cold tyga dwn bad for cuffin ...   \n",
              "\n",
              "                                    tweet_organizado  \n",
              "0  womann't complain cleaning house amp man alway...  \n",
              "1  boy dats cold tyga dwn bad cuffin dat hoe st p...  "
            ]
          },
          "metadata": {
            "tags": []
          },
          "execution_count": 64
        }
      ]
    },
    {
      "cell_type": "code",
      "metadata": {
        "colab": {
          "base_uri": "https://localhost:8080/",
          "height": 213
        },
        "id": "G8eLHe1bA5h2",
        "outputId": "c986fd55-3939-4113-85a5-20a2f3d1053b"
      },
      "source": [
        "# Separando palavras juntas\n",
        "dados['text_split'] = dados['tweet_organizado'].apply(wordninja.split)\n",
        "dados['text_novo'] = dados['text_split'].apply(TreebankWordDetokenizer().detokenize)\n",
        "dados.head()"
      ],
      "execution_count": null,
      "outputs": [
        {
          "output_type": "execute_result",
          "data": {
            "text/html": [
              "<div>\n",
              "<style scoped>\n",
              "    .dataframe tbody tr th:only-of-type {\n",
              "        vertical-align: middle;\n",
              "    }\n",
              "\n",
              "    .dataframe tbody tr th {\n",
              "        vertical-align: top;\n",
              "    }\n",
              "\n",
              "    .dataframe thead th {\n",
              "        text-align: right;\n",
              "    }\n",
              "</style>\n",
              "<table border=\"1\" class=\"dataframe\">\n",
              "  <thead>\n",
              "    <tr style=\"text-align: right;\">\n",
              "      <th></th>\n",
              "      <th>Unnamed: 0</th>\n",
              "      <th>count</th>\n",
              "      <th>hate_speech</th>\n",
              "      <th>offensive_language</th>\n",
              "      <th>neither</th>\n",
              "      <th>class</th>\n",
              "      <th>tweet</th>\n",
              "      <th>tweet_novo</th>\n",
              "      <th>tweet_organizado</th>\n",
              "      <th>text_split</th>\n",
              "      <th>text_novo</th>\n",
              "    </tr>\n",
              "  </thead>\n",
              "  <tbody>\n",
              "    <tr>\n",
              "      <th>0</th>\n",
              "      <td>0</td>\n",
              "      <td>3</td>\n",
              "      <td>0</td>\n",
              "      <td>0</td>\n",
              "      <td>3</td>\n",
              "      <td>2</td>\n",
              "      <td>!!! RT @mayasolovely: As a woman you shouldn't...</td>\n",
              "      <td>rt    as a woman you shouldn't complain abou...</td>\n",
              "      <td>womann't complain cleaning house amp man alway...</td>\n",
              "      <td>[woman, n, ', t, complain, cleaning, house, am...</td>\n",
              "      <td>woman n' t complain cleaning house amp man alw...</td>\n",
              "    </tr>\n",
              "    <tr>\n",
              "      <th>1</th>\n",
              "      <td>1</td>\n",
              "      <td>3</td>\n",
              "      <td>0</td>\n",
              "      <td>3</td>\n",
              "      <td>0</td>\n",
              "      <td>1</td>\n",
              "      <td>!!!!! RT @mleew17: boy dats cold...tyga dwn ba...</td>\n",
              "      <td>rt    boy dats cold tyga dwn bad for cuffin ...</td>\n",
              "      <td>boy dats cold tyga dwn bad cuffin dat hoe st p...</td>\n",
              "      <td>[boy, dat, s, cold, tyga, dw, n, bad, cuff, in...</td>\n",
              "      <td>boy dat s cold tyga dw n bad cuff in dat hoe s...</td>\n",
              "    </tr>\n",
              "  </tbody>\n",
              "</table>\n",
              "</div>"
            ],
            "text/plain": [
              "   Unnamed: 0  count  hate_speech  offensive_language  neither  class  \\\n",
              "0           0      3            0                   0        3      2   \n",
              "1           1      3            0                   3        0      1   \n",
              "\n",
              "                                               tweet  \\\n",
              "0  !!! RT @mayasolovely: As a woman you shouldn't...   \n",
              "1  !!!!! RT @mleew17: boy dats cold...tyga dwn ba...   \n",
              "\n",
              "                                          tweet_novo  \\\n",
              "0    rt    as a woman you shouldn't complain abou...   \n",
              "1    rt    boy dats cold tyga dwn bad for cuffin ...   \n",
              "\n",
              "                                    tweet_organizado  \\\n",
              "0  womann't complain cleaning house amp man alway...   \n",
              "1  boy dats cold tyga dwn bad cuffin dat hoe st p...   \n",
              "\n",
              "                                          text_split  \\\n",
              "0  [woman, n, ', t, complain, cleaning, house, am...   \n",
              "1  [boy, dat, s, cold, tyga, dw, n, bad, cuff, in...   \n",
              "\n",
              "                                           text_novo  \n",
              "0  woman n' t complain cleaning house amp man alw...  \n",
              "1  boy dat s cold tyga dw n bad cuff in dat hoe s...  "
            ]
          },
          "metadata": {
            "tags": []
          },
          "execution_count": 65
        }
      ]
    },
    {
      "cell_type": "code",
      "metadata": {
        "id": "99FBnl-9ZZ_A",
        "outputId": "d4f3bd83-f00b-4777-f903-bc63557f79ff"
      },
      "source": [
        "#corrigindo palavras incorretas\n",
        "dados['tweet_definitivo'] = dados['text_novo'].apply(textblob.TextBlob).apply(textblob.TextBlob.correct).apply(str)\n",
        "dados.head(2)"
      ],
      "execution_count": null,
      "outputs": [
        {
          "output_type": "execute_result",
          "data": {
            "text/html": [
              "<div>\n",
              "<style scoped>\n",
              "    .dataframe tbody tr th:only-of-type {\n",
              "        vertical-align: middle;\n",
              "    }\n",
              "\n",
              "    .dataframe tbody tr th {\n",
              "        vertical-align: top;\n",
              "    }\n",
              "\n",
              "    .dataframe thead th {\n",
              "        text-align: right;\n",
              "    }\n",
              "</style>\n",
              "<table border=\"1\" class=\"dataframe\">\n",
              "  <thead>\n",
              "    <tr style=\"text-align: right;\">\n",
              "      <th></th>\n",
              "      <th>Unnamed: 0</th>\n",
              "      <th>count</th>\n",
              "      <th>hate_speech</th>\n",
              "      <th>offensive_language</th>\n",
              "      <th>neither</th>\n",
              "      <th>class</th>\n",
              "      <th>tweet</th>\n",
              "      <th>tweet_novo</th>\n",
              "      <th>tweet_organizado</th>\n",
              "      <th>text_split</th>\n",
              "      <th>text_novo</th>\n",
              "      <th>tweet_definitivo</th>\n",
              "    </tr>\n",
              "  </thead>\n",
              "  <tbody>\n",
              "    <tr>\n",
              "      <th>0</th>\n",
              "      <td>0</td>\n",
              "      <td>3</td>\n",
              "      <td>0</td>\n",
              "      <td>0</td>\n",
              "      <td>3</td>\n",
              "      <td>2</td>\n",
              "      <td>!!! RT @mayasolovely: As a woman you shouldn't...</td>\n",
              "      <td>rt    as a woman you shouldn't complain abou...</td>\n",
              "      <td>womann't complain cleaning house amp man alway...</td>\n",
              "      <td>[woman, n, ', t, complain, cleaning, house, am...</td>\n",
              "      <td>woman n' t complain cleaning house amp man alw...</td>\n",
              "      <td>woman n' t complain cleaning house amp man alw...</td>\n",
              "    </tr>\n",
              "    <tr>\n",
              "      <th>1</th>\n",
              "      <td>1</td>\n",
              "      <td>3</td>\n",
              "      <td>0</td>\n",
              "      <td>3</td>\n",
              "      <td>0</td>\n",
              "      <td>1</td>\n",
              "      <td>!!!!! RT @mleew17: boy dats cold...tyga dwn ba...</td>\n",
              "      <td>rt    boy dats cold tyga dwn bad for cuffin ...</td>\n",
              "      <td>boy dats cold tyga dwn bad cuffin dat hoe st p...</td>\n",
              "      <td>[boy, dat, s, cold, tyga, dw, n, bad, cuff, in...</td>\n",
              "      <td>boy dat s cold tyga dw n bad cuff in dat hoe s...</td>\n",
              "      <td>boy dat s cold tea do n bad cuff in dat he st ...</td>\n",
              "    </tr>\n",
              "  </tbody>\n",
              "</table>\n",
              "</div>"
            ],
            "text/plain": [
              "   Unnamed: 0  count  hate_speech  offensive_language  neither  class  \\\n",
              "0           0      3            0                   0        3      2   \n",
              "1           1      3            0                   3        0      1   \n",
              "\n",
              "                                               tweet  \\\n",
              "0  !!! RT @mayasolovely: As a woman you shouldn't...   \n",
              "1  !!!!! RT @mleew17: boy dats cold...tyga dwn ba...   \n",
              "\n",
              "                                          tweet_novo  \\\n",
              "0    rt    as a woman you shouldn't complain abou...   \n",
              "1    rt    boy dats cold tyga dwn bad for cuffin ...   \n",
              "\n",
              "                                    tweet_organizado  \\\n",
              "0  womann't complain cleaning house amp man alway...   \n",
              "1  boy dats cold tyga dwn bad cuffin dat hoe st p...   \n",
              "\n",
              "                                          text_split  \\\n",
              "0  [woman, n, ', t, complain, cleaning, house, am...   \n",
              "1  [boy, dat, s, cold, tyga, dw, n, bad, cuff, in...   \n",
              "\n",
              "                                           text_novo  \\\n",
              "0  woman n' t complain cleaning house amp man alw...   \n",
              "1  boy dat s cold tyga dw n bad cuff in dat hoe s...   \n",
              "\n",
              "                                    tweet_definitivo  \n",
              "0  woman n' t complain cleaning house amp man alw...  \n",
              "1  boy dat s cold tea do n bad cuff in dat he st ...  "
            ]
          },
          "metadata": {
            "tags": []
          },
          "execution_count": 66
        }
      ]
    },
    {
      "cell_type": "code",
      "metadata": {
        "colab": {
          "base_uri": "https://localhost:8080/"
        },
        "id": "V8UFLGAnBBGN",
        "outputId": "ab35470e-7eb7-4edd-8528-0ff233e1304b"
      },
      "source": [
        "# Selecionando as unicas palavras da variável tweet_definitivo\n",
        "text = list(dados.tweet_definitivo)\n",
        "list_words = [item for sublist in text for item in sublist]\n",
        "list_words = sorted(list_words)\n",
        "only_words = set(list_words)\n",
        "print('Quantidade de frases:', len(text), '\\n')\n",
        "print('Quantidade GERAL palavras:', len(list_words), '\\n')\n",
        "print('Quantidade de UNICA palavras:', len(only_words), '\\n')\n",
        "counter = collections.Counter(list_words)"
      ],
      "execution_count": null,
      "outputs": [
        {
          "output_type": "stream",
          "text": [
            "Quantidade de frases: 24783 \n",
            "\n",
            "Quantidade GERAL palavras: 1171270 \n",
            "\n",
            "Quantidade de UNICA palavras: 28 \n",
            "\n"
          ],
          "name": "stdout"
        }
      ]
    },
    {
      "cell_type": "code",
      "metadata": {
        "colab": {
          "base_uri": "https://localhost:8080/"
        },
        "id": "zQA4fpvbBNbR",
        "outputId": "a1ade740-35f1-4ae6-ce39-5da5fc9b6dbd"
      },
      "source": [
        "#EU Max tamanho dos tweet_definitivo\n",
        "dados['tweet_definitivo'].apply(len).max()"
      ],
      "execution_count": null,
      "outputs": [
        {
          "output_type": "execute_result",
          "data": {
            "text/plain": [
              "154"
            ]
          },
          "metadata": {
            "tags": []
          },
          "execution_count": 90
        }
      ]
    },
    {
      "cell_type": "code",
      "metadata": {
        "id": "R-aQeQp2ZZ_D"
      },
      "source": [
        "#Dicionário para coluna de classificação dos tweets\n",
        "Classe = {0: 'Discurso de ódio', 1: 'Linguagem ofensiva', 2: 'Neutro'}\n",
        "dados['classe']= dados['class'].map(Classe)"
      ],
      "execution_count": null,
      "outputs": []
    },
    {
      "cell_type": "code",
      "metadata": {
        "id": "QuIY3wxhBHGD",
        "outputId": "df227511-3d72-43c3-cf76-f2c8932cc247"
      },
      "source": [
        "classificacao = dados['classe']\n",
        "classificacao"
      ],
      "execution_count": null,
      "outputs": [
        {
          "output_type": "execute_result",
          "data": {
            "text/plain": [
              "0                    Neutro\n",
              "1        Linguagem ofensiva\n",
              "2        Linguagem ofensiva\n",
              "3        Linguagem ofensiva\n",
              "4        Linguagem ofensiva\n",
              "                ...        \n",
              "24778    Linguagem ofensiva\n",
              "24779                Neutro\n",
              "24780    Linguagem ofensiva\n",
              "24781    Linguagem ofensiva\n",
              "24782                Neutro\n",
              "Name: classe, Length: 24783, dtype: object"
            ]
          },
          "metadata": {
            "tags": []
          },
          "execution_count": 74
        }
      ]
    },
    {
      "cell_type": "code",
      "metadata": {
        "id": "AwgVE6V_ZZ_E",
        "outputId": "1a7f99f2-eb47-4575-8a64-41dd8e858ece"
      },
      "source": [
        "dados.head()"
      ],
      "execution_count": null,
      "outputs": [
        {
          "output_type": "execute_result",
          "data": {
            "text/html": [
              "<div>\n",
              "<style scoped>\n",
              "    .dataframe tbody tr th:only-of-type {\n",
              "        vertical-align: middle;\n",
              "    }\n",
              "\n",
              "    .dataframe tbody tr th {\n",
              "        vertical-align: top;\n",
              "    }\n",
              "\n",
              "    .dataframe thead th {\n",
              "        text-align: right;\n",
              "    }\n",
              "</style>\n",
              "<table border=\"1\" class=\"dataframe\">\n",
              "  <thead>\n",
              "    <tr style=\"text-align: right;\">\n",
              "      <th></th>\n",
              "      <th>Unnamed: 0</th>\n",
              "      <th>count</th>\n",
              "      <th>hate_speech</th>\n",
              "      <th>offensive_language</th>\n",
              "      <th>neither</th>\n",
              "      <th>class</th>\n",
              "      <th>tweet</th>\n",
              "      <th>tweet_novo</th>\n",
              "      <th>text_split</th>\n",
              "      <th>text_novo</th>\n",
              "      <th>tweet_organizado</th>\n",
              "      <th>text_new_split</th>\n",
              "      <th>classe</th>\n",
              "    </tr>\n",
              "  </thead>\n",
              "  <tbody>\n",
              "    <tr>\n",
              "      <th>0</th>\n",
              "      <td>0</td>\n",
              "      <td>3</td>\n",
              "      <td>0</td>\n",
              "      <td>0</td>\n",
              "      <td>3</td>\n",
              "      <td>2</td>\n",
              "      <td>!!! RT @mayasolovely: As a woman you shouldn't...</td>\n",
              "      <td>womann't complain cleaning house amp man alway...</td>\n",
              "      <td>[woman, n, ', t, complain, cleaning, house, am...</td>\n",
              "      <td>woman n' t complain cleaning house amp man alw...</td>\n",
              "      <td>woman n complain cleaning house amp man always...</td>\n",
              "      <td>[woman, n, complain, cleaning, house, amp, man...</td>\n",
              "      <td>Neutro</td>\n",
              "    </tr>\n",
              "    <tr>\n",
              "      <th>1</th>\n",
              "      <td>1</td>\n",
              "      <td>3</td>\n",
              "      <td>0</td>\n",
              "      <td>3</td>\n",
              "      <td>0</td>\n",
              "      <td>1</td>\n",
              "      <td>!!!!! RT @mleew17: boy dats cold...tyga dwn ba...</td>\n",
              "      <td>boy dats cold tyga dwn bad cuffin dat hoe st p...</td>\n",
              "      <td>[boy, dat, s, cold, tyga, dw, n, bad, cuff, in...</td>\n",
              "      <td>boy dat s cold tyga dw n bad cuff in dat hoe s...</td>\n",
              "      <td>boy dat cold tyga dw n bad cuff dat hoe st place</td>\n",
              "      <td>[boy, dat, cold, tyga, dw, n, bad, cuff, dat, ...</td>\n",
              "      <td>Linguagem ofensiva</td>\n",
              "    </tr>\n",
              "    <tr>\n",
              "      <th>2</th>\n",
              "      <td>2</td>\n",
              "      <td>3</td>\n",
              "      <td>0</td>\n",
              "      <td>3</td>\n",
              "      <td>0</td>\n",
              "      <td>1</td>\n",
              "      <td>!!!!!!! RT @UrKindOfBrand Dawg!!!! RT @80sbaby...</td>\n",
              "      <td>dawg ever fuck bitch start cry confused shit</td>\n",
              "      <td>[daw, g, ever, fuck, bitch, start, cry, confus...</td>\n",
              "      <td>daw g ever fuck bitch start cry confused shit</td>\n",
              "      <td>daw g ever fuck bitch start cry confused shit</td>\n",
              "      <td>[daw, g, ever, fuck, bitch, start, cry, confus...</td>\n",
              "      <td>Linguagem ofensiva</td>\n",
              "    </tr>\n",
              "    <tr>\n",
              "      <th>3</th>\n",
              "      <td>3</td>\n",
              "      <td>3</td>\n",
              "      <td>0</td>\n",
              "      <td>2</td>\n",
              "      <td>1</td>\n",
              "      <td>1</td>\n",
              "      <td>!!!!!!!!! RT @C_G_Anderson: @viva_based she lo...</td>\n",
              "      <td>_g_anderson _based look like tranny</td>\n",
              "      <td>[g, anderson, based, look, like, tr, an, ny]</td>\n",
              "      <td>g anderson based look like tr an ny</td>\n",
              "      <td>g anderson based look like tr ny</td>\n",
              "      <td>[g, anderson, based, look, like, tr, ny]</td>\n",
              "      <td>Linguagem ofensiva</td>\n",
              "    </tr>\n",
              "    <tr>\n",
              "      <th>4</th>\n",
              "      <td>4</td>\n",
              "      <td>6</td>\n",
              "      <td>0</td>\n",
              "      <td>6</td>\n",
              "      <td>0</td>\n",
              "      <td>1</td>\n",
              "      <td>!!!!!!!!!!!!! RT @ShenikaRoberts: The shit you...</td>\n",
              "      <td>shit hear might true might faker bitch told ya</td>\n",
              "      <td>[shit, hear, might, true, might, faker, bitch,...</td>\n",
              "      <td>shit hear might true might faker bitch told ya</td>\n",
              "      <td>shit hear might true might faker bitch told ya</td>\n",
              "      <td>[shit, hear, might, true, might, faker, bitch,...</td>\n",
              "      <td>Linguagem ofensiva</td>\n",
              "    </tr>\n",
              "  </tbody>\n",
              "</table>\n",
              "</div>"
            ],
            "text/plain": [
              "   Unnamed: 0  count  hate_speech  offensive_language  neither  class  \\\n",
              "0           0      3            0                   0        3      2   \n",
              "1           1      3            0                   3        0      1   \n",
              "2           2      3            0                   3        0      1   \n",
              "3           3      3            0                   2        1      1   \n",
              "4           4      6            0                   6        0      1   \n",
              "\n",
              "                                               tweet  \\\n",
              "0  !!! RT @mayasolovely: As a woman you shouldn't...   \n",
              "1  !!!!! RT @mleew17: boy dats cold...tyga dwn ba...   \n",
              "2  !!!!!!! RT @UrKindOfBrand Dawg!!!! RT @80sbaby...   \n",
              "3  !!!!!!!!! RT @C_G_Anderson: @viva_based she lo...   \n",
              "4  !!!!!!!!!!!!! RT @ShenikaRoberts: The shit you...   \n",
              "\n",
              "                                          tweet_novo  \\\n",
              "0  womann't complain cleaning house amp man alway...   \n",
              "1  boy dats cold tyga dwn bad cuffin dat hoe st p...   \n",
              "2       dawg ever fuck bitch start cry confused shit   \n",
              "3                _g_anderson _based look like tranny   \n",
              "4     shit hear might true might faker bitch told ya   \n",
              "\n",
              "                                          text_split  \\\n",
              "0  [woman, n, ', t, complain, cleaning, house, am...   \n",
              "1  [boy, dat, s, cold, tyga, dw, n, bad, cuff, in...   \n",
              "2  [daw, g, ever, fuck, bitch, start, cry, confus...   \n",
              "3       [g, anderson, based, look, like, tr, an, ny]   \n",
              "4  [shit, hear, might, true, might, faker, bitch,...   \n",
              "\n",
              "                                           text_novo  \\\n",
              "0  woman n' t complain cleaning house amp man alw...   \n",
              "1  boy dat s cold tyga dw n bad cuff in dat hoe s...   \n",
              "2      daw g ever fuck bitch start cry confused shit   \n",
              "3                g anderson based look like tr an ny   \n",
              "4     shit hear might true might faker bitch told ya   \n",
              "\n",
              "                                    tweet_organizado  \\\n",
              "0  woman n complain cleaning house amp man always...   \n",
              "1   boy dat cold tyga dw n bad cuff dat hoe st place   \n",
              "2      daw g ever fuck bitch start cry confused shit   \n",
              "3                   g anderson based look like tr ny   \n",
              "4     shit hear might true might faker bitch told ya   \n",
              "\n",
              "                                      text_new_split              classe  \n",
              "0  [woman, n, complain, cleaning, house, amp, man...              Neutro  \n",
              "1  [boy, dat, cold, tyga, dw, n, bad, cuff, dat, ...  Linguagem ofensiva  \n",
              "2  [daw, g, ever, fuck, bitch, start, cry, confus...  Linguagem ofensiva  \n",
              "3           [g, anderson, based, look, like, tr, ny]  Linguagem ofensiva  \n",
              "4  [shit, hear, might, true, might, faker, bitch,...  Linguagem ofensiva  "
            ]
          },
          "metadata": {
            "tags": []
          },
          "execution_count": 22
        }
      ]
    },
    {
      "cell_type": "code",
      "metadata": {
        "colab": {
          "base_uri": "https://localhost:8080/"
        },
        "id": "SUxctGOSBTxp",
        "outputId": "22b9f65d-f07a-4ae2-c215-9be3e866f951"
      },
      "source": [
        "#Função encoder utilizando deprecated pois tfds.features não roda mais. \n",
        "encoder = tfds.deprecated.text.SubwordTextEncoder(vocab_list=only_words)\n",
        "##encoder = tfds.features.text.SubwordTextEncoder(vocab_list=only_words)\n",
        "print ('Vocabulary size(text_new): {}'.format(encoder.vocab_size))"
      ],
      "execution_count": null,
      "outputs": [
        {
          "output_type": "stream",
          "text": [
            "Vocabulary size(text_new): 285\n"
          ],
          "name": "stdout"
        }
      ]
    },
    {
      "cell_type": "code",
      "metadata": {
        "colab": {
          "base_uri": "https://localhost:8080/"
        },
        "id": "0IeLYE7cBr_X",
        "outputId": "f5befd6e-f6c0-408d-ac3d-9229356b878a"
      },
      "source": [
        "##Exemplo do encode e decode do tweet\t\n",
        "sample_string = 'woman n complain cleaning house amp man always'\n",
        "# Encode\n",
        "encoded_string = encoder.encode(sample_string)\n",
        "print('Encoded string is {}'.format(encoded_string))\n",
        "#Decode\n",
        "original_string = encoder.decode(encoded_string)\n",
        "print('The original string: \"{}\"'.format(original_string))"
      ],
      "execution_count": null,
      "outputs": [
        {
          "output_type": "stream",
          "text": [
            "Encoded string is [19, 20, 14, 15, 5, 61, 5, 61, 11, 20, 14, 22, 17, 15, 21, 5, 61, 11, 17, 9, 15, 5, 21, 5, 28, 61, 13, 20, 23, 6, 9, 61, 15, 14, 22, 61, 14, 15, 5, 61, 15, 17, 19, 15, 1, 6]\n",
            "The original string: \"woman n complain cleaning house amp man always\"\n"
          ],
          "name": "stdout"
        }
      ]
    },
    {
      "cell_type": "code",
      "metadata": {
        "colab": {
          "base_uri": "https://localhost:8080/"
        },
        "id": "CB_ut6VOBuTe",
        "outputId": "2006bf04-6260-471b-b832-4093ff6430d8"
      },
      "source": [
        "#Validando a string original com a string após o decode\n",
        "original_string == sample_string"
      ],
      "execution_count": null,
      "outputs": [
        {
          "output_type": "execute_result",
          "data": {
            "text/plain": [
              "True"
            ]
          },
          "metadata": {
            "tags": []
          },
          "execution_count": 93
        }
      ]
    },
    {
      "cell_type": "code",
      "metadata": {
        "colab": {
          "base_uri": "https://localhost:8080/"
        },
        "id": "4qnws8TqBwHT",
        "outputId": "4f43f170-87db-4712-82fc-29bd1e06e5fc"
      },
      "source": [
        "# Exemplificando a relação de index ----> word\n",
        "for index in encoded_string:\n",
        "  print('{} ----> {}'.format(index, encoder.decode([index])))"
      ],
      "execution_count": null,
      "outputs": [
        {
          "output_type": "stream",
          "text": [
            "14570 ----> woman\n",
            "17935 ---->  \n",
            "4573 ----> n\n",
            "17935 ---->  \n",
            "9495 ----> complain\n",
            "17935 ---->  \n",
            "17663 ----> cleaning\n",
            "17935 ---->  \n",
            "9420 ----> house\n",
            "17935 ---->  \n",
            "11671 ----> amp\n",
            "17935 ---->  \n",
            "14156 ----> man\n",
            "17935 ---->  \n",
            "12181 ----> always\n"
          ],
          "name": "stdout"
        }
      ]
    },
    {
      "cell_type": "code",
      "metadata": {
        "id": "CufL3YMIByci",
        "outputId": "cd13dafd-06c3-4f29-ab1e-aa0a664a34f1"
      },
      "source": [
        "# Encode para as classes (labels)\n",
        "label_encode = LabelEncoder()\n",
        "target = label_encode.fit_transform(dados['classe'])\n",
        "target"
      ],
      "execution_count": null,
      "outputs": [
        {
          "output_type": "execute_result",
          "data": {
            "text/plain": [
              "array([2, 1, 1, ..., 1, 1, 2])"
            ]
          },
          "metadata": {
            "tags": []
          },
          "execution_count": 94
        }
      ]
    },
    {
      "cell_type": "markdown",
      "metadata": {
        "id": "ycveaMLdB1Cv"
      },
      "source": [
        "### Separando os dados em treino e teste\n",
        "90% para treino e 10% para teste"
      ]
    },
    {
      "cell_type": "code",
      "metadata": {
        "id": "PENJe4upB1g8"
      },
      "source": [
        "# Definindo feature e target\n",
        "x = dados['tweet_definitivo']\n",
        "y = target\n",
        "\n",
        "x_train,x_test, y_train, y_test = train_test_split(x,y, test_size=0.1)\n"
      ],
      "execution_count": null,
      "outputs": []
    },
    {
      "cell_type": "code",
      "metadata": {
        "id": "rDvHwjshZZ_L",
        "outputId": "5a4dd4f8-e7ed-47d2-c404-8bf6478a4201"
      },
      "source": [
        "len(dados['tweet_definitivo'])"
      ],
      "execution_count": null,
      "outputs": [
        {
          "output_type": "execute_result",
          "data": {
            "text/plain": [
              "24783"
            ]
          },
          "metadata": {
            "tags": []
          },
          "execution_count": 96
        }
      ]
    },
    {
      "cell_type": "code",
      "metadata": {
        "id": "Jf7usvlMZZ_M",
        "outputId": "d579a4b0-00dc-49ac-b5e3-06ea9707589e"
      },
      "source": [
        "dados['classe'].value_counts()"
      ],
      "execution_count": null,
      "outputs": [
        {
          "output_type": "execute_result",
          "data": {
            "text/plain": [
              "Linguagem ofensiva    19190\n",
              "Neutro                 4163\n",
              "Discurso de ódio       1430\n",
              "Name: classe, dtype: int64"
            ]
          },
          "metadata": {
            "tags": []
          },
          "execution_count": 83
        }
      ]
    },
    {
      "cell_type": "code",
      "metadata": {
        "id": "QGJG4SaMB-ET"
      },
      "source": [
        "# Função para criação da matriz\n",
        "def pad_to_size(vec, size):\n",
        "  zeros = [0] * (size - len(vec))\n",
        "  vec.extend(zeros)\n",
        "  return vec"
      ],
      "execution_count": null,
      "outputs": []
    },
    {
      "cell_type": "code",
      "metadata": {
        "id": "3oUfl-KFCH3K"
      },
      "source": [
        "# Função para encode do input\n",
        "def encode_input(tweet_definitivo):\n",
        "  list_x = []\n",
        "  for text in tweet_definitivo:\n",
        "    text_encode = encoder.encode(text)\n",
        "    text_encode = pad_to_size(text_encode, 256)\n",
        "    list_x.append(text_encode)\n",
        "  # Convertendo x em tensor\n",
        "  input_encode = tf.cast(list_x, tf.float64)\n",
        "  return input_encode\n",
        "# Encode do x_train e x_test\n",
        "x_train = encode_input(x_train)\n",
        "x_test = encode_input(x_test)"
      ],
      "execution_count": null,
      "outputs": []
    },
    {
      "cell_type": "code",
      "metadata": {
        "colab": {
          "base_uri": "https://localhost:8080/"
        },
        "id": "P3dYSa31CKoY",
        "outputId": "b08b518c-f44f-4427-c2de-2c51424c1f70"
      },
      "source": [
        "# Criação do modelo de RNN\n",
        "inputs = keras.Input(shape=(None,), dtype=\"int64\")\n",
        "x = layers.Embedding(encoder.vocab_size, 128)(inputs)\n",
        "x = layers.Bidirectional(layers.LSTM(64, return_sequences=True))(x)\n",
        "x = layers.Bidirectional(layers.LSTM(64))(x)\n",
        "x = layers.Dropout(0.5)(x)\n",
        "outputs = layers.Dense(3, activation=\"softmax\")(x)\n",
        "model = keras.Model(inputs, outputs)\n",
        "model.summary()"
      ],
      "execution_count": null,
      "outputs": [
        {
          "output_type": "stream",
          "text": [
            "Model: \"model_2\"\n",
            "_________________________________________________________________\n",
            "Layer (type)                 Output Shape              Param #   \n",
            "=================================================================\n",
            "input_3 (InputLayer)         [(None, None)]            0         \n",
            "_________________________________________________________________\n",
            "embedding_2 (Embedding)      (None, None, 128)         36480     \n",
            "_________________________________________________________________\n",
            "bidirectional_4 (Bidirection (None, None, 128)         98816     \n",
            "_________________________________________________________________\n",
            "bidirectional_5 (Bidirection (None, 128)               98816     \n",
            "_________________________________________________________________\n",
            "dropout_2 (Dropout)          (None, 128)               0         \n",
            "_________________________________________________________________\n",
            "dense_2 (Dense)              (None, 3)                 387       \n",
            "=================================================================\n",
            "Total params: 234,499\n",
            "Trainable params: 234,499\n",
            "Non-trainable params: 0\n",
            "_________________________________________________________________\n"
          ],
          "name": "stdout"
        }
      ]
    },
    {
      "cell_type": "code",
      "metadata": {
        "colab": {
          "base_uri": "https://localhost:8080/"
        },
        "id": "ZuwS146JCOua",
        "outputId": "406a2d19-bdc2-4c6e-fa08-a806b89ffb29"
      },
      "source": [
        "# Compilando modelo e configurando o processo de treinamento\n",
        "epochs = 10\n",
        "batch_size = 128\n",
        "steps_per_epoch=10\n",
        "model.compile(loss=\"sparse_categorical_crossentropy\",\n",
        "              optimizer=\"rmsprop\",\n",
        "              metrics=['accuracy'])\n",
        "# Treinando o modelo\n",
        "history = model.fit(x_train, y_train, epochs=epochs,steps_per_epoch=steps_per_epoch,\n",
        "                    batch_size=batch_size,\n",
        "                    validation_data=(x_test, y_test))"
      ],
      "execution_count": null,
      "outputs": [
        {
          "output_type": "stream",
          "text": [
            "Epoch 1/10\n",
            "10/10 [==============================] - 263s 19s/step - loss: 0.8931 - accuracy: 0.6022 - val_loss: 0.6420 - val_accuracy: 0.7822\n",
            "Epoch 2/10\n",
            "10/10 [==============================] - 78s 8s/step - loss: 0.6787 - accuracy: 0.7817 - val_loss: 0.6353 - val_accuracy: 0.7822\n",
            "Epoch 3/10\n",
            "10/10 [==============================] - 82s 8s/step - loss: 0.6609 - accuracy: 0.7760 - val_loss: 0.6237 - val_accuracy: 0.7822\n",
            "Epoch 4/10\n",
            "10/10 [==============================] - 80s 8s/step - loss: 0.6516 - accuracy: 0.7782 - val_loss: 0.6277 - val_accuracy: 0.7822\n",
            "Epoch 5/10\n",
            "10/10 [==============================] - 79s 8s/step - loss: 0.6269 - accuracy: 0.7886 - val_loss: 0.5875 - val_accuracy: 0.7822\n",
            "Epoch 6/10\n",
            "10/10 [==============================] - 78s 8s/step - loss: 0.6542 - accuracy: 0.7646 - val_loss: 0.5990 - val_accuracy: 0.7822\n",
            "Epoch 7/10\n",
            "10/10 [==============================] - 80s 8s/step - loss: 0.6345 - accuracy: 0.7644 - val_loss: 0.5923 - val_accuracy: 0.7822\n",
            "Epoch 8/10\n",
            "10/10 [==============================] - 78s 8s/step - loss: 0.6258 - accuracy: 0.7796 - val_loss: 0.5982 - val_accuracy: 0.7749\n",
            "Epoch 9/10\n",
            "10/10 [==============================] - 79s 8s/step - loss: 0.5778 - accuracy: 0.7883 - val_loss: 0.5772 - val_accuracy: 0.7830\n",
            "Epoch 10/10\n",
            "10/10 [==============================] - 79s 8s/step - loss: 0.6619 - accuracy: 0.7671 - val_loss: 0.6751 - val_accuracy: 0.7273\n"
          ],
          "name": "stdout"
        }
      ]
    },
    {
      "cell_type": "code",
      "metadata": {
        "id": "Jj5-R1DWJaSG",
        "outputId": "7ee28806-e892-4fbc-8b57-93e5ecbff7ab"
      },
      "source": [
        "# Testando a qualidade do modelo\n",
        "test_loss, test_acc = model.evaluate(x_test, y_test)\n",
        "print('Test Loss: {}'.format(test_loss))\n",
        "print('Test Accuracy: {}'.format(test_acc))"
      ],
      "execution_count": null,
      "outputs": [
        {
          "output_type": "stream",
          "text": [
            "78/78 [==============================] - 21s 264ms/step - loss: 0.6751 - accuracy: 0.7273\n",
            "Test Loss: 0.6750926375389099\n",
            "Test Accuracy: 0.7273094058036804\n"
          ],
          "name": "stdout"
        }
      ]
    },
    {
      "cell_type": "code",
      "metadata": {
        "id": "lvPxjyhAJfNJ"
      },
      "source": [
        "# Função para predição\n",
        "def sample_predict(sample_pred_text):\n",
        "  encoded_sample_pred_text = encoder.encode(sample_pred_text)\n",
        "  encoded_sample_pred_text = tf.cast(encoded_sample_pred_text, tf.float32)\n",
        "  predictions = model.predict(tf.expand_dims(encoded_sample_pred_text, 0))\n",
        "  return (predictions)"
      ],
      "execution_count": null,
      "outputs": []
    },
    {
      "cell_type": "code",
      "metadata": {
        "id": "qXAhjSsJJh3H",
        "outputId": "ff6f2e10-369b-4090-bef3-edd00474901a"
      },
      "source": [
        "sample_predict('As a woman you shouldnt complain about cleaning up your house amp as a man you should always take the trash out')"
      ],
      "execution_count": null,
      "outputs": [
        {
          "output_type": "execute_result",
          "data": {
            "text/plain": [
              "array([[0.21377325, 0.28998736, 0.49623936]], dtype=float32)"
            ]
          },
          "metadata": {
            "tags": []
          },
          "execution_count": 134
        }
      ]
    },
    {
      "cell_type": "code",
      "metadata": {
        "id": "Zr-C9IpqJj-I",
        "outputId": "2face42d-4dbe-4aab-bbd9-9ac53654c3ee"
      },
      "source": [
        "# Predição do exemplo\n",
        "example = 'As a woman you shouldnt complain about cleaning up your house amp as a man you should always take the trash out'\n",
        "predictions = sample_predict(example)\n",
        "probabilities = [np.argmax(predictions[0])]\n",
        "# Retornando os labels\n",
        "new_label = label_encode.inverse_transform(probabilities)\n",
        "print('O exemplo \"{}\" foi classificado como \"{}\"'.format(example, new_label[0]))"
      ],
      "execution_count": null,
      "outputs": [
        {
          "output_type": "stream",
          "text": [
            "O exemplo \"As a woman you shouldnt complain about cleaning up your house amp as a man you should always take the trash out\" foi classificado como \"Neutro\"\n"
          ],
          "name": "stdout"
        }
      ]
    },
    {
      "cell_type": "code",
      "metadata": {
        "id": "-r4olYrFZZ_T",
        "outputId": "7c443ed3-033b-42db-932d-1562a8f0298b"
      },
      "source": [
        "dados['tweet'][24751]"
      ],
      "execution_count": null,
      "outputs": [
        {
          "output_type": "execute_result",
          "data": {
            "text/plain": [
              "'you a pussy ass nigga and I know it nigga.'"
            ]
          },
          "metadata": {
            "tags": []
          },
          "execution_count": 119
        }
      ]
    },
    {
      "cell_type": "code",
      "metadata": {
        "id": "fJJRFIkoZZ_U",
        "outputId": "bcf7b1ef-03c5-4817-e758-f264d486cfdd"
      },
      "source": [
        "sample_predict('you a pussy ass nigga and I know it nigga')"
      ],
      "execution_count": null,
      "outputs": [
        {
          "output_type": "execute_result",
          "data": {
            "text/plain": [
              "array([[0.23892337, 0.34852612, 0.41255045]], dtype=float32)"
            ]
          },
          "metadata": {
            "tags": []
          },
          "execution_count": 121
        }
      ]
    },
    {
      "cell_type": "code",
      "metadata": {
        "id": "Bfd4VqFDZZ_V",
        "outputId": "8291ecdb-3b16-4f1a-8323-bd9f42987b79"
      },
      "source": [
        "example2 = ' bitch nigga miss me with it'\n",
        "predictions = sample_predict(example2)\n",
        "probabilities = [np.argmax(predictions[0])]\n",
        "# Retornando os labels\n",
        "new_label = label_encode.inverse_transform(probabilities)\n",
        "print('O exemplo \"{}\" foi classificado como \"{}\"'.format(example2, new_label[0]))"
      ],
      "execution_count": null,
      "outputs": [
        {
          "output_type": "stream",
          "text": [
            "O exemplo \" bitch nigga miss me with it\" foi classificado como \"Linguagem ofensiva\"\n"
          ],
          "name": "stdout"
        }
      ]
    },
    {
      "cell_type": "code",
      "metadata": {
        "id": "MdwC42hYZZ_W",
        "outputId": "d36f40e2-9c90-415d-d7bf-27332efe4ef4"
      },
      "source": [
        "example3 = 'you a pussy ass nigga and I know it nigga'\n",
        "predictions = sample_predict(example3)\n",
        "probabilities = [np.argmax(predictions[0])]\n",
        "# Retornando os labels\n",
        "new_label = label_encode.inverse_transform(probabilities)\n",
        "print('O exemplo \"{}\" foi classificado como \"{}\"'.format(example3, new_label[0]))\n"
      ],
      "execution_count": null,
      "outputs": [
        {
          "output_type": "stream",
          "text": [
            "O exemplo \"you a pussy ass nigga and I know it nigga\" foi classificado como \"Neutro\"\n"
          ],
          "name": "stdout"
        }
      ]
    },
    {
      "cell_type": "code",
      "metadata": {
        "id": "HQqh_iKBZZ_X",
        "outputId": "72e2e287-64b9-4a61-97ee-4fa34ddebbb0"
      },
      "source": [
        "example4 = 'playing football with friends'\n",
        "predictions = sample_predict(example4)\n",
        "probabilities = [np.argmax(predictions[0])]\n",
        "# Retornando os labels\n",
        "new_label = label_encode.inverse_transform(probabilities)\n",
        "print('O exemplo \"{}\" foi classificado como \"{}\"'.format(example4, new_label[0]))"
      ],
      "execution_count": null,
      "outputs": [
        {
          "output_type": "stream",
          "text": [
            "O exemplo \"playing football with friends\" foi classificado como \"Neutro\"\n"
          ],
          "name": "stdout"
        }
      ]
    }
  ]
}